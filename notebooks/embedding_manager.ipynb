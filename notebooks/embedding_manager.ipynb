{
 "cells": [
  {
   "cell_type": "code",
   "execution_count": 1,
   "metadata": {},
   "outputs": [
    {
     "data": {
      "text/plain": [
       "True"
      ]
     },
     "execution_count": 1,
     "metadata": {},
     "output_type": "execute_result"
    }
   ],
   "source": [
    "from dotenv import load_dotenv\n",
    "import sys\n",
    "sys.path.append('..')\n",
    "\n",
    "load_dotenv()"
   ]
  },
  {
   "cell_type": "code",
   "execution_count": 2,
   "metadata": {},
   "outputs": [
    {
     "name": "stderr",
     "output_type": "stream",
     "text": [
      "INFO:faiss.loader:Loading faiss with AVX512 support.\n",
      "INFO:faiss.loader:Could not load library with AVX512 support due to:\n",
      "ModuleNotFoundError(\"No module named 'faiss.swigfaiss_avx512'\")\n",
      "INFO:faiss.loader:Loading faiss with AVX2 support.\n",
      "INFO:faiss.loader:Successfully loaded faiss with AVX2 support.\n"
     ]
    },
    {
     "name": "stdout",
     "output_type": "stream",
     "text": [
      "Found 16 valid files\n"
     ]
    }
   ],
   "source": [
    "from src.vector import create_file_content_map\n",
    "import os\n",
    "\n",
    "file_content_map = create_file_content_map(root_dir=os.path.join(\"..\", \"src\"), accept_patterns=[\"*.py\"])\n"
   ]
  },
  {
   "cell_type": "code",
   "execution_count": 3,
   "metadata": {},
   "outputs": [],
   "source": [
    "from src.vector import EmbeddingManager, OpenAIEmbeddingProvider, FAISSVectorStore, EmbeddingConfig\n",
    "\n",
    "\n",
    "embedding_provider = OpenAIEmbeddingProvider(config=EmbeddingConfig(model_name=\"text-embedding-3-small\"))\n",
    "vector_store = FAISSVectorStore(dimension=1536, index_path=\"faiss_index.bin\")\n",
    "\n",
    "embedding_manager = EmbeddingManager(\n",
    "    embedding_provider=embedding_provider,\n",
    "    vector_store=vector_store,\n",
    ")"
   ]
  },
  {
   "cell_type": "code",
   "execution_count": 4,
   "metadata": {},
   "outputs": [
    {
     "name": "stdout",
     "output_type": "stream",
     "text": [
      "Warning: Failed to load FAISS index: 'bytes' object has no attribute 'shape'\n"
     ]
    },
    {
     "name": "stderr",
     "output_type": "stream",
     "text": [
      "INFO:httpx:HTTP Request: POST https://api.openai.com/v1/embeddings \"HTTP/1.1 200 OK\"\n",
      "INFO:httpx:HTTP Request: POST https://api.openai.com/v1/embeddings \"HTTP/1.1 200 OK\"\n"
     ]
    }
   ],
   "source": [
    "texts = list(file_content_map.values())\n",
    "metadatas = [{\"source\": file_path} for file_path in file_content_map.keys()]\n",
    "\n",
    "await embedding_manager.add_texts(texts=texts, metadatas=metadatas)"
   ]
  },
  {
   "cell_type": "code",
   "execution_count": 5,
   "metadata": {},
   "outputs": [
    {
     "name": "stderr",
     "output_type": "stream",
     "text": [
      "INFO:httpx:HTTP Request: POST https://api.openai.com/v1/embeddings \"HTTP/1.1 200 OK\"\n"
     ]
    },
    {
     "name": "stdout",
     "output_type": "stream",
     "text": [
      "1.8250832557678223\n",
      "import tim\n",
      "----------------------------------------------------------------------------------------------------\n",
      "1.8232173919677734\n",
      "from .watc\n",
      "----------------------------------------------------------------------------------------------------\n",
      "1.8073463439941406\n",
      "import log\n",
      "----------------------------------------------------------------------------------------------------\n",
      "1.5399296283721924\n",
      "from datac\n",
      "----------------------------------------------------------------------------------------------------\n",
      "1.4746506214141846\n",
      "import os\n",
      "\n",
      "----------------------------------------------------------------------------------------------------\n",
      "1.443137526512146\n",
      "import ric\n",
      "----------------------------------------------------------------------------------------------------\n",
      "1.1859211921691895\n",
      "import asy\n",
      "----------------------------------------------------------------------------------------------------\n",
      "1.1800724267959595\n",
      "from abc i\n",
      "----------------------------------------------------------------------------------------------------\n",
      "1.0061016082763672\n",
      "import tim\n",
      "----------------------------------------------------------------------------------------------------\n",
      "0.9799277782440186\n",
      "from .mana\n",
      "----------------------------------------------------------------------------------------------------\n"
     ]
    }
   ],
   "source": [
    "results = await embedding_manager.similarity_search(query=\"What is the purpose of the EmbeddingManager class?\", limit=10)\n",
    "results = sorted(results, key=lambda x: x.score, reverse=True)\n",
    "\n",
    "for result in results:\n",
    "    print(result.score)\n",
    "    print(result.text[:10])\n",
    "    print(\"-\" * 100)\n"
   ]
  },
  {
   "cell_type": "code",
   "execution_count": 6,
   "metadata": {},
   "outputs": [],
   "source": [
    "from src.query import QueryProcessor, QueryType\n",
    "from langchain_openai import ChatOpenAI\n",
    "\n",
    "query_processor = QueryProcessor(embedding_manager=embedding_manager, llm=ChatOpenAI(model=\"gpt-4o-mini\"))"
   ]
  },
  {
   "cell_type": "code",
   "execution_count": 7,
   "metadata": {},
   "outputs": [
    {
     "name": "stderr",
     "output_type": "stream",
     "text": [
      "INFO:httpx:HTTP Request: POST https://api.openai.com/v1/embeddings \"HTTP/1.1 200 OK\"\n",
      "INFO:httpx:HTTP Request: POST https://api.openai.com/v1/chat/completions \"HTTP/1.1 200 OK\"\n"
     ]
    },
    {
     "data": {
      "text/plain": [
       "AIMessage(content=\"### Analysis of the `VectorStore` Class and Related Sections\\n\\n#### 1. How each section relates to the query\\n\\nThe `VectorStore` class is a central component of the provided code, which deals with managing and querying vectors in a vector store. Here are the relevant sections:\\n\\n- **VectorStore Class**: This is an abstract base class that defines the interface for all vector stores. It specifies essential methods like `add_vectors`, `query`, `delete`, and `clear`, which are fundamental operations for managing vectors.\\n\\n- **Concrete Implementations**: The `ChromaVectorStore`, `FAISSVectorStore`, and `PGVectorStore` classes are concrete implementations of the `VectorStore` class. Each of these implementations provides specific functionalities and optimizations for storing and querying vectors using different underlying technologies (Chroma, FAISS, and PostgreSQL with PGVector, respectively).\\n\\n- **EmbeddingManager**: This class coordinates the embedding process and interacts with the `VectorStore`. It uses the `VectorStore` to store vectors that represent embedded documents, which are crucial for similarity searches.\\n\\n- **QueryProcessor**: This class processes queries against the `VectorStore` and utilizes the embeddings to perform similarity searches, providing an interface for users to retrieve relevant information based on their queries.\\n\\n#### 2. Key implementation details\\n\\n- **Abstract Methods**: The `VectorStore` class defines abstract methods that must be implemented by any subclass, ensuring that the subclasses provide the necessary functionality to interact with vector data.\\n\\n- **Asynchronous Operations**: The vector store operations are designed to be asynchronous (using `async`/`await`), which allows for non-blocking calls that are especially useful in I/O-bound operations (e.g., database queries, file operations).\\n\\n- **Data Structures**: It uses data structures such as dictionaries and lists to manage vectors and their metadata efficiently. The `EmbeddingVector` and `SearchResult` data classes encapsulate the essential attributes related to the vectors and the results of queries.\\n\\n- **Error Handling**: Each method includes exception handling, which raises runtime errors with informative messages when operations fail, promoting robustness.\\n\\n#### 3. Notable patterns or practices\\n\\n- **Separation of Concerns**: The architecture separates concerns by having distinct classes for managing embeddings (`EmbeddingManager`), querying (`QueryProcessor`), and storing vectors (`VectorStore` and its implementations). This modular design enhances maintainability and testability.\\n\\n- **Use of Data Classes**: The use of Python's `dataclasses` for `EmbeddingVector` and `SearchResult` provides a clean and efficient way to define data structures without boilerplate code.\\n\\n- **Asynchronous Programming**: The implementation takes advantage of asynchronous programming, which is particularly beneficial in applications that require high performance and responsiveness, such as web servers or applications dealing with extensive datasets.\\n\\n- **Enum Usage**: The `VectorStoreType` and `QueryType` enums provide a clear and maintainable way to handle different vector store types and query types, respectively.\\n\\n#### 4. Suggestions for understanding or using this code\\n\\n- **Familiarize with Asynchronous Programming**: Since the code extensively uses async/await, it's essential to have a good understanding of asynchronous programming in Python to effectively work with or extend this codebase.\\n\\n- **Explore Vector Store Implementations**: Review the implementations of `ChromaVectorStore`, `FAISSVectorStore`, and `PGVectorStore` to understand how different vector store technologies operate and how they are integrated into the overall system.\\n\\n- **Experiment with the EmbeddingManager**: Try adding and querying vectors using the `EmbeddingManager` to see how embeddings are created and stored, which will provide practical insights into the system's functionality.\\n\\n- **Examine Error Handling Strategies**: Pay attention to how exceptions are managed across different classes to learn effective error handling patterns in an asynchronous context.\\n\\n- **Read the Documentation**: If available, refer to any documentation associated with the libraries used (like FAISS, Chroma, etc.) to gain a deeper understanding of their capabilities and how they work under the hood.\\n\\nBy following these suggestions, one can develop a deeper comprehension of the `VectorStore` class and its role within the larger codebase.\", additional_kwargs={'refusal': None}, response_metadata={'token_usage': {'completion_tokens': 860, 'prompt_tokens': 8906, 'total_tokens': 9766, 'completion_tokens_details': {'accepted_prediction_tokens': 0, 'audio_tokens': 0, 'reasoning_tokens': 0, 'rejected_prediction_tokens': 0}, 'prompt_tokens_details': {'audio_tokens': 0, 'cached_tokens': 0}}, 'model_name': 'gpt-4o-mini-2024-07-18', 'system_fingerprint': 'fp_6fc10e10eb', 'finish_reason': 'stop', 'logprobs': None}, id='run-3aa060b9-0b57-42a6-bc7a-dd332f175410-0', usage_metadata={'input_tokens': 8906, 'output_tokens': 860, 'total_tokens': 9766, 'input_token_details': {'audio': 0, 'cache_read': 0}, 'output_token_details': {'audio': 0, 'reasoning': 0}})"
      ]
     },
     "execution_count": 7,
     "metadata": {},
     "output_type": "execute_result"
    }
   ],
   "source": [
    "query_results = await query_processor.process_query(query=\"What is the purpose of the VectorStore class?\", query_type=QueryType.SEMANTIC)\n",
    "\n",
    "query_results.analysis\n"
   ]
  },
  {
   "cell_type": "code",
   "execution_count": 15,
   "metadata": {},
   "outputs": [],
   "source": [
    "with open(\"result.md\", \"w\") as f:\n",
    "    f.write(query_results.analysis.content)\n",
    "\n"
   ]
  }
 ],
 "metadata": {
  "kernelspec": {
   "display_name": ".venv",
   "language": "python",
   "name": "python3"
  },
  "language_info": {
   "codemirror_mode": {
    "name": "ipython",
    "version": 3
   },
   "file_extension": ".py",
   "mimetype": "text/x-python",
   "name": "python",
   "nbconvert_exporter": "python",
   "pygments_lexer": "ipython3",
   "version": "3.12.0"
  }
 },
 "nbformat": 4,
 "nbformat_minor": 2
}
