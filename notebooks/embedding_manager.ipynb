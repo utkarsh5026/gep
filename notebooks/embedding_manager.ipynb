{
 "cells": [
  {
   "cell_type": "code",
   "execution_count": 1,
   "metadata": {},
   "outputs": [
    {
     "data": {
      "text/plain": [
       "True"
      ]
     },
     "execution_count": 1,
     "metadata": {},
     "output_type": "execute_result"
    }
   ],
   "source": [
    "from dotenv import load_dotenv\n",
    "import sys\n",
    "sys.path.append('..')\n",
    "\n",
    "\n",
    "load_dotenv()"
   ]
  },
  {
   "cell_type": "code",
   "execution_count": 2,
   "metadata": {},
   "outputs": [
    {
     "name": "stderr",
     "output_type": "stream",
     "text": [
      "INFO:faiss.loader:Loading faiss with AVX512 support.\n",
      "INFO:faiss.loader:Could not load library with AVX512 support due to:\n",
      "ModuleNotFoundError(\"No module named 'faiss.swigfaiss_avx512'\")\n",
      "INFO:faiss.loader:Loading faiss with AVX2 support.\n",
      "INFO:faiss.loader:Successfully loaded faiss with AVX2 support.\n"
     ]
    },
    {
     "name": "stdout",
     "output_type": "stream",
     "text": [
      "Found 17 valid files\n"
     ]
    }
   ],
   "source": [
    "from src.vector import create_file_content_map\n",
    "import os\n",
    "\n",
    "file_content_map = create_file_content_map(root_dir=os.path.join(\"..\", \"src\"), accept_patterns=[\"*.py\"])\n"
   ]
  },
  {
   "cell_type": "code",
   "execution_count": 3,
   "metadata": {},
   "outputs": [
    {
     "name": "stdout",
     "output_type": "stream",
     "text": [
      "Warning: Failed to load FAISS index: 'bytes' object has no attribute 'shape'\n"
     ]
    }
   ],
   "source": [
    "from src.vector import EmbeddingManager, OpenAIEmbeddingProvider, FAISSVectorStore, EmbeddingConfig\n",
    "\n",
    "\n",
    "embedding_provider = OpenAIEmbeddingProvider(config=EmbeddingConfig(model_name=\"text-embedding-3-small\"))\n",
    "vector_store = FAISSVectorStore(dimension=1536, index_path=\"faiss_index.bin\")\n",
    "\n",
    "embedding_manager = EmbeddingManager(\n",
    "    embedding_provider=embedding_provider,\n",
    "    vector_store=vector_store,\n",
    ")"
   ]
  },
  {
   "cell_type": "code",
   "execution_count": 4,
   "metadata": {},
   "outputs": [
    {
     "name": "stderr",
     "output_type": "stream",
     "text": [
      "INFO:httpx:HTTP Request: POST https://api.openai.com/v1/embeddings \"HTTP/1.1 200 OK\"\n",
      "INFO:httpx:HTTP Request: POST https://api.openai.com/v1/embeddings \"HTTP/1.1 200 OK\"\n"
     ]
    }
   ],
   "source": [
    "texts = list(file_content_map.values())\n",
    "metadatas = [{\"source\": file_path} for file_path in file_content_map.keys()]\n",
    "\n",
    "await embedding_manager.add_texts(texts=texts, metadatas=metadatas)"
   ]
  },
  {
   "cell_type": "code",
   "execution_count": 7,
   "metadata": {},
   "outputs": [
    {
     "name": "stderr",
     "output_type": "stream",
     "text": [
      "INFO:httpx:HTTP Request: POST https://api.openai.com/v1/embeddings \"HTTP/1.1 200 OK\"\n"
     ]
    },
    {
     "name": "stdout",
     "output_type": "stream",
     "text": [
      "1.8231627941131592\n",
      "from .watc\n",
      "----------------------------------------------------------------------------------------------------\n",
      "1.8073091506958008\n",
      "import log\n",
      "----------------------------------------------------------------------------------------------------\n",
      "1.720302939414978\n",
      "from typin\n",
      "----------------------------------------------------------------------------------------------------\n",
      "1.5216126441955566\n",
      "from datac\n",
      "----------------------------------------------------------------------------------------------------\n",
      "1.4744725227355957\n",
      "import os\n",
      "\n",
      "----------------------------------------------------------------------------------------------------\n",
      "1.4427917003631592\n",
      "import ric\n",
      "----------------------------------------------------------------------------------------------------\n",
      "1.1858773231506348\n",
      "import asy\n",
      "----------------------------------------------------------------------------------------------------\n",
      "1.1801719665527344\n",
      "from abc i\n",
      "----------------------------------------------------------------------------------------------------\n",
      "1.006042718887329\n",
      "import tim\n",
      "----------------------------------------------------------------------------------------------------\n",
      "0.9800853729248047\n",
      "from .mana\n",
      "----------------------------------------------------------------------------------------------------\n"
     ]
    }
   ],
   "source": [
    "results = await embedding_manager.similarity_search(query=\"What is the purpose of the EmbeddingManager class?\", limit=10)\n",
    "results = sorted(results, key=lambda x: x.score, reverse=True)\n",
    "\n",
    "for result in results:\n",
    "    print(result.score)\n",
    "    print(result.text[:10])\n",
    "    print(\"-\" * 100)\n"
   ]
  },
  {
   "cell_type": "code",
   "execution_count": 5,
   "metadata": {},
   "outputs": [],
   "source": [
    "from src.query import QueryProcessor, QueryType\n",
    "from langchain_openai import ChatOpenAI\n",
    "\n",
    "query_processor = QueryProcessor(embedding_manager=embedding_manager, llm=ChatOpenAI(model=\"gpt-4o-mini\"))"
   ]
  },
  {
   "cell_type": "code",
   "execution_count": 9,
   "metadata": {},
   "outputs": [
    {
     "name": "stderr",
     "output_type": "stream",
     "text": [
      "INFO:httpx:HTTP Request: POST https://api.openai.com/v1/embeddings \"HTTP/1.1 200 OK\"\n",
      "INFO:httpx:HTTP Request: POST https://api.openai.com/v1/chat/completions \"HTTP/1.1 200 OK\"\n"
     ]
    },
    {
     "data": {
      "text/plain": [
       "AIMessage(content=\"### Analysis of the VectorStore Class\\n\\n#### 1. How Each Section Relates to the Query\\n\\nThe main focus of the query is the `VectorStore` class, which is situated within the context of a broader codebase that deals with the management of embedding vectors. The class is defined in the file `vector.py`, and its purpose is to serve as an abstract base class for various types of vector stores. The code sections that involve `VectorStore` include:\\n\\n- The `VectorStore` abstract class itself, which defines essential methods for managing vectors.\\n- Concrete implementations of `VectorStore` such as `ChromaVectorStore`, `FAISSVectorStore`, and `PGVectorStore`. Each of these classes provides specific functionalities for handling vectors in different storage systems.\\n- The `EmbeddingManager` class, which utilizes the `VectorStore` to manage embeddings and interface with the vector store.\\n\\n#### 2. Key Implementation Details\\n\\n- **Abstract Class**: `VectorStore` is an abstract base class that defines four key methods:\\n  - `add_vectors`: To add vectors to the store.\\n  - `query`: To perform queries against the stored vectors and retrieve results.\\n  - `delete`: To remove vectors from the store based on their IDs.\\n  - `clear`: To clear all vectors from the store.\\n  \\n- **Concrete Implementations**: The abstract class is inherited by:\\n  - `ChromaVectorStore`: Uses the Chroma vector store implementation.\\n  - `FAISSVectorStore`: Implements functionality using FAISS (Facebook AI Similarity Search) which is optimized for efficient similarity search and clustering of dense vectors.\\n  - `PGVectorStore`: Leverages PGVector, a PostgreSQL extension for vector similarity search.\\n\\n- **Data Structures**: The `EmbeddingVector` and `SearchResult` classes are essential data structures used for representing vector embeddings and search results, respectively. They encapsulate metadata and vector details.\\n\\n- **Configuration**: The `VectorStoreConfig` class provides a structured way to configure the vector store, including specifying the type of vector store and connection parameters.\\n\\n#### 3. Notable Patterns or Practices\\n\\n- **Use of Enums**: The `VectorStoreType` enum defines different types of vector stores, promoting type safety and clarity when specifying the kind of vector store to be used.\\n  \\n- **Asynchronous Programming**: The methods in `VectorStore` and its implementations are asynchronous (`async def`), which is a modern practice for I/O-bound operations, allowing for non-blocking execution.\\n\\n- **Error Handling**: Each method includes try-except blocks to catch exceptions and provide meaningful error messages, which is crucial for debugging and maintaining robust code.\\n\\n- **Dataclasses**: The use of Python's `dataclass` decorator simplifies the creation of classes like `EmbeddingVector` and `SearchResult`, reducing boilerplate code and enhancing readability.\\n\\n#### 4. Suggestions for Understanding or Using This Code\\n\\n- **Read the Abstract Class First**: Start by examining the `VectorStore` class to understand the core functionality and expected methods that any vector store implementation should provide.\\n\\n- **Explore Concrete Implementations**: After grasping the abstract class, look into the specific implementations (`ChromaVectorStore`, `FAISSVectorStore`, and `PGVectorStore`). Each implementation will provide insights into how different storage backends are utilized.\\n\\n- **Familiarize with Asynchronous Programming**: Since the methods are asynchronous, understanding Python's `asyncio` library would be beneficial. Pay attention to how `async` and `await` keywords are used to manage asynchronous operations.\\n\\n- **Understand the Data Flow**: The `EmbeddingManager` class interacts with the `VectorStore`, so understanding how texts are processed, embedded, and stored will give a full picture of the system's functionality.\\n\\n- **Experiment with Vector Stores**: If you have access to the necessary dependencies (like FAISS or Chroma), try implementing some sample interactions with the vector stores to get hands-on experience.\\n\\nBy following these suggestions, one can gain a comprehensive understanding of the `VectorStore` class and its role within the broader embedding management system.\", additional_kwargs={'refusal': None}, response_metadata={'token_usage': {'completion_tokens': 844, 'prompt_tokens': 11180, 'total_tokens': 12024, 'completion_tokens_details': {'accepted_prediction_tokens': 0, 'audio_tokens': 0, 'reasoning_tokens': 0, 'rejected_prediction_tokens': 0}, 'prompt_tokens_details': {'audio_tokens': 0, 'cached_tokens': 0}}, 'model_name': 'gpt-4o-mini-2024-07-18', 'system_fingerprint': 'fp_6fc10e10eb', 'finish_reason': 'stop', 'logprobs': None}, id='run-9e761c3d-5f8b-4307-bc38-186e3fc3b790-0', usage_metadata={'input_tokens': 11180, 'output_tokens': 844, 'total_tokens': 12024, 'input_token_details': {'audio': 0, 'cache_read': 0}, 'output_token_details': {'audio': 0, 'reasoning': 0}})"
      ]
     },
     "execution_count": 9,
     "metadata": {},
     "output_type": "execute_result"
    }
   ],
   "source": [
    "query_results = await query_processor.process_query(query=\"What is the purpose of the VectorStore class?\", query_type=QueryType.SEMANTIC)\n",
    "\n",
    "query_results.analysis\n"
   ]
  },
  {
   "cell_type": "code",
   "execution_count": 10,
   "metadata": {},
   "outputs": [],
   "source": [
    "with open(\"result.md\", \"w\") as f:\n",
    "    f.write(query_results.analysis.content)\n",
    "\n"
   ]
  },
  {
   "cell_type": "code",
   "execution_count": 6,
   "metadata": {},
   "outputs": [
    {
     "name": "stderr",
     "output_type": "stream",
     "text": [
      "INFO:httpx:HTTP Request: POST https://api.openai.com/v1/embeddings \"HTTP/1.1 200 OK\"\n",
      "INFO:httpx:HTTP Request: POST https://api.openai.com/v1/chat/completions \"HTTP/1.1 200 OK\"\n",
      "INFO:httpx:HTTP Request: POST https://api.openai.com/v1/chat/completions \"HTTP/1.1 200 OK\"\n",
      "INFO:httpx:HTTP Request: POST https://api.openai.com/v1/chat/completions \"HTTP/1.1 200 OK\"\n",
      "INFO:httpx:HTTP Request: POST https://api.openai.com/v1/chat/completions \"HTTP/1.1 200 OK\"\n",
      "INFO:httpx:HTTP Request: POST https://api.openai.com/v1/chat/completions \"HTTP/1.1 200 OK\"\n",
      "INFO:httpx:HTTP Request: POST https://api.openai.com/v1/chat/completions \"HTTP/1.1 200 OK\"\n",
      "INFO:httpx:HTTP Request: POST https://api.openai.com/v1/chat/completions \"HTTP/1.1 200 OK\"\n",
      "INFO:httpx:HTTP Request: POST https://api.openai.com/v1/chat/completions \"HTTP/1.1 200 OK\"\n",
      "INFO:httpx:HTTP Request: POST https://api.openai.com/v1/chat/completions \"HTTP/1.1 200 OK\"\n",
      "INFO:httpx:HTTP Request: POST https://api.openai.com/v1/chat/completions \"HTTP/1.1 200 OK\"\n"
     ]
    }
   ],
   "source": [
    "from src.query import StreamQueryProcessor\n",
    "from langchain_openai import ChatOpenAI\n",
    "\n",
    "stream_query_processor = StreamQueryProcessor(embedding_manager=embedding_manager, llm=ChatOpenAI(model=\"gpt-4o-mini\"))\n",
    "\n",
    "async for result in stream_query_processor.stream_query_result(query=\"What is the purpose of the VectorStore class?\", query_type=QueryType.CODE_PATTERN):\n",
    "    \n",
    "    with open(\"result.md\", \"a\") as f:\n",
    "        f.write(result.text)\n",
    "\n",
    "\n"
   ]
  }
 ],
 "metadata": {
  "kernelspec": {
   "display_name": ".venv",
   "language": "python",
   "name": "python3"
  },
  "language_info": {
   "codemirror_mode": {
    "name": "ipython",
    "version": 3
   },
   "file_extension": ".py",
   "mimetype": "text/x-python",
   "name": "python",
   "nbconvert_exporter": "python",
   "pygments_lexer": "ipython3",
   "version": "3.12.0"
  }
 },
 "nbformat": 4,
 "nbformat_minor": 2
}
